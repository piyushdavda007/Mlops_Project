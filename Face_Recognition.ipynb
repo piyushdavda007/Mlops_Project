{
 "cells": [
  {
   "cell_type": "code",
   "execution_count": 8,
   "metadata": {},
   "outputs": [
    {
     "name": "stdout",
     "output_type": "stream",
     "text": [
      "Success!\n"
     ]
    }
   ],
   "source": [
    "import face_recognition\n",
    "import cv2\n",
    "import numpy as np\n",
    "import requests\n",
    "import time\n",
    "from requests.exceptions import HTTPError\n",
    "\n",
    "video_capture = cv2.VideoCapture(0)\n",
    "\n",
    "imgsiba = face_recognition.load_image_file('1.jpg')  #give your image name here.\n",
    "imgsiba_encoding = face_recognition.face_encodings(imgsiba)[0]\n",
    "\n",
    "# Create arrays of known face encodings and their names\n",
    "known_face_encodings = [\n",
    "    imgsiba_encoding   \n",
    "]\n",
    "known_face_names = [\n",
    "    \"Sibadyuti\"\n",
    "]\n",
    "\n",
    "# Initialize some variables\n",
    "face_locations = []\n",
    "face_encodings = []\n",
    "face_names = []\n",
    "process_this_frame = True\n",
    "\n",
    "while True:\n",
    "    # Grab a single frame of video\n",
    "    ret, frame = video_capture.read()\n",
    "\n",
    "    # Resize frame of video to 1/4 size for faster face recognition processing\n",
    "    small_frame = cv2.resize(frame, (0, 0), fx=0.25, fy=0.25)\n",
    "\n",
    "    # Convert the image from BGR color (which OpenCV uses) to RGB color (which face_recognition uses)\n",
    "    rgb_small_frame = small_frame[:, :, ::-1]\n",
    " \n",
    "    # Only process every other frame of video to save time\n",
    "    if process_this_frame:\n",
    "        # Find all the faces and face encodings in the current frame of video\n",
    "        face_locations = face_recognition.face_locations(rgb_small_frame)\n",
    "        face_encodings = face_recognition.face_encodings(rgb_small_frame, face_locations)\n",
    "        face_names = []\n",
    "        for face_encoding in face_encodings:\n",
    "            # See if the face is a match for the known face(s)\n",
    "            matches = face_recognition.compare_faces(known_face_encodings, face_encoding)\n",
    "            name = \"Unknown\"\n",
    "\n",
    "            # # If a match was found in known_face_encodings, just use the first one.\n",
    "            if True in matches:\n",
    "                try:\n",
    "                    requests.post('http://192.168.43.139/LED=ON')\n",
    "                  # If the response was successful, no Exception will be raised\n",
    "                  # response.raise_for_status()\n",
    "                    time.sleep(3) # Sleep for 2 seconds\n",
    "                    requests.post('http://192.168.43.139/LED=OFF')\n",
    "                except HTTPError as http_err:\n",
    "                    print(f'HTTP error occurred')  # Python 3.6\n",
    "                except Exception as err:\n",
    "                    print(f'Connection error occurred') # Python 3.6\n",
    "                else:\n",
    "                    print('Success!')\n",
    "                    \n",
    "                break       \n",
    "         \n",
    "    # Display the resulting image\n",
    "    cv2.imshow('Video', frame)\n",
    "    time.sleep(1)\n",
    "    break   \n",
    "    # Hit 'q' on the keyboard to quit!\n",
    "    #cv2.waitKey(1) & 0xFF == ord('q'):\n",
    "  #  if cv2.waitKey(1) == 13: #13 is the Enter Key \n",
    "   #     break\n",
    "\n",
    "# Release handle to the webcam\n",
    "video_capture.release()\n",
    "cv2.destroyAllWindows()"
   ]
  },
  {
   "cell_type": "code",
   "execution_count": null,
   "metadata": {},
   "outputs": [],
   "source": []
  },
  {
   "cell_type": "code",
   "execution_count": null,
   "metadata": {},
   "outputs": [],
   "source": []
  },
  {
   "cell_type": "code",
   "execution_count": null,
   "metadata": {},
   "outputs": [],
   "source": []
  }
 ],
 "metadata": {
  "kernelspec": {
   "display_name": "Python 3",
   "language": "python",
   "name": "python3"
  },
  "language_info": {
   "codemirror_mode": {
    "name": "ipython",
    "version": 3
   },
   "file_extension": ".py",
   "mimetype": "text/x-python",
   "name": "python",
   "nbconvert_exporter": "python",
   "pygments_lexer": "ipython3",
   "version": "3.7.6"
  }
 },
 "nbformat": 4,
 "nbformat_minor": 4
}
